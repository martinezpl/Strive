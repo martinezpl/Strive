{
 "cells": [
  {
   "cell_type": "markdown",
   "metadata": {},
   "source": [
    "# Perceptron algorithm (exercise)"
   ]
  },
  {
   "cell_type": "markdown",
   "metadata": {},
   "source": [
    "In this exercise, implement a single neuron (perceptron) that classifies two groups of flowers from the Iris dataset.\n",
    "\n",
    "The data set consists of 50 samples from each of three species of Iris (Iris setosa, Iris virginica and Iris versicolor). Four features were measured from each sample: the length and the width of the sepals and petals, in centimeters. Based on the combination of these four features, a linear discriminant model can be developed to distinguish the species from each other.\n",
    "\n",
    "For the purpose of this exercise, you will only use two features (sepal length and sepal width) of two species of flowers (Setosa and Versicolor)."
   ]
  },
  {
   "cell_type": "code",
   "execution_count": 1,
   "metadata": {},
   "outputs": [],
   "source": [
    "# allows inline plotting below each cell\n",
    "%matplotlib inline"
   ]
  },
  {
   "cell_type": "code",
   "execution_count": 6,
   "metadata": {},
   "outputs": [],
   "source": [
    "# import necessary libraries \n",
    "import numpy as np\n",
    "import pandas as pd\n",
    "import matplotlib.pyplot as plt"
   ]
  },
  {
   "cell_type": "code",
   "execution_count": 3,
   "metadata": {},
   "outputs": [],
   "source": [
    "# Function that plots data and linear classifier\n",
    "\n",
    "def plot_border(w1, b, data):\n",
    "    plt.axis([0, 10, 0, 6])\n",
    "    plt.grid()\n",
    "    \n",
    "    # scatter data\n",
    "    for i in range(len(data)) :\n",
    "        point = data[i]\n",
    "        color = \"r\"\n",
    "        if point[2] == 0 :\n",
    "            color = \"b\"\n",
    "        plt.scatter(point[0], point[1], c=color)\n",
    "\n",
    "    # separation line\n",
    "    x = np.linspace(0, 10, 100)\n",
    "    plt.plot(x, w1*x+b, '-g', label='y=w1*x+b')\n",
    "    plt.show()  "
   ]
  },
  {
   "cell_type": "code",
   "execution_count": 14,
   "metadata": {},
   "outputs": [],
   "source": [
    "### load data ###\n",
    "\n",
    "# each point is a tuple (sepal length, sepal width, flower type)\n",
    "# types: 0 for Setosa & 1 for Versicolor\n",
    "training_data = np.array([[ 5.1,  3.5,  0 ],\n",
    "       [ 4.9,  3. ,  0 ],\n",
    "       [ 4.7,  3.2,  0 ],\n",
    "       [ 4.6,  3.1,  0 ],\n",
    "       [ 5. ,  3.6,  0 ],\n",
    "       [ 5.4,  3.9,  0 ],\n",
    "       [ 4.6,  3.4,  0 ],\n",
    "       [ 5. ,  3.4,  0 ],\n",
    "       [ 4.4,  2.9,  0 ],\n",
    "       [ 4.9,  3.1,  0 ],\n",
    "       [ 5.4,  3.7,  0 ],\n",
    "       [ 4.8,  3.4,  0 ],\n",
    "       [ 4.8,  3. ,  0 ],\n",
    "       [ 4.3,  3. ,  0 ],\n",
    "       [ 5.8,  4. ,  0 ],\n",
    "       [ 5.7,  4.4,  0 ],\n",
    "       [ 5.4,  3.9,  0 ],\n",
    "       [ 5.1,  3.5,  0 ],\n",
    "       [ 5.7,  3.8,  0 ],\n",
    "       [ 5.1,  3.8,  0 ],\n",
    "       [ 7. ,  3.2,  1 ],\n",
    "       [ 6.4,  3.2,  1 ],\n",
    "       [ 6.9,  3.1,  1 ],\n",
    "       [ 5.5,  2.3,  1 ],\n",
    "       [ 6.5,  2.8,  1 ],\n",
    "       [ 5.7,  2.8,  1 ],\n",
    "       [ 6.3,  3.3,  1 ],\n",
    "       [ 4.9,  2.4,  1 ],\n",
    "       [ 6.6,  2.9,  1 ],\n",
    "       [ 5.2,  2.7,  1 ],\n",
    "       [ 5. ,  2. ,  1 ],\n",
    "       [ 5.9,  3. ,  1 ],\n",
    "       [ 6. ,  2.2,  1 ],\n",
    "       [ 6.1,  2.9,  1 ],\n",
    "       [ 5.6,  2.9,  1 ],\n",
    "       [ 6.7,  3.1,  1 ],\n",
    "       [ 5.6,  3. ,  1 ],\n",
    "       [ 5.8,  2.7,  1 ],\n",
    "       [ 6.2,  2.2,  1 ],\n",
    "       [ 5.6,  2.5,  1 ],\n",
    "       [ 5.9,  3.2,  1 ],\n",
    "       [ 6.1,  2.8,  1 ],\n",
    "       [ 6.3,  2.5,  1 ],\n",
    "       [ 6.1,  2.8,  1 ],\n",
    "       [ 6.4,  2.9,  1 ]])\n",
    "\n",
    "test_data = np.array([[ 5.4,  3.4,  0. ],\n",
    "           [ 4.6,  3.6,  0. ],\n",
    "           [ 5.1,  3.3,  0. ],\n",
    "           [ 4.8,  3.4,  0. ],\n",
    "           [ 5. ,  3. ,  0. ],\n",
    "           [ 5. ,  3.4,  0. ],\n",
    "           [ 5.2,  3.5,  0. ],\n",
    "           [ 5.2,  3.4,  0. ],\n",
    "           [ 4.7,  3.2,  0. ],\n",
    "           [ 4.8,  3.1,  0. ],\n",
    "           [ 5.4,  3.4,  0. ],\n",
    "           [ 5.2,  4.1,  0. ],\n",
    "           [ 5.5,  4.2,  0. ],\n",
    "           [ 4.9,  3.1,  0. ],\n",
    "           [ 5. ,  3.2,  0. ],\n",
    "           [ 5.5,  3.5,  0. ],\n",
    "           [ 4.9,  3.1,  0. ],\n",
    "           [ 4.4,  3. ,  0. ],\n",
    "           [ 5.1,  3.4,  0. ],\n",
    "           [ 5. ,  3.5,  0. ],\n",
    "           [ 4.5,  2.3,  0. ],\n",
    "           [ 4.4,  3.2,  0. ],\n",
    "           [ 5. ,  3.5,  0. ],\n",
    "           [ 5.1,  3.8,  0. ],\n",
    "           [ 4.8,  3. ,  0. ],\n",
    "           [ 5.1,  3.8,  0. ],\n",
    "           [ 4.6,  3.2,  0. ],\n",
    "           [ 5.3,  3.7,  0. ],\n",
    "           [ 5. ,  3.3,  0. ],\n",
    "           [ 6.8,  2.8,  1. ],\n",
    "           [ 6.7,  3. ,  1. ],\n",
    "           [ 6. ,  2.9,  1. ],\n",
    "           [ 5.7,  2.6,  1. ],\n",
    "           [ 5.5,  2.4,  1. ],\n",
    "           [ 5.5,  2.4,  1. ],\n",
    "           [ 5.8,  2.7,  1. ],\n",
    "           [ 6. ,  2.7,  1. ],\n",
    "           [ 5.4,  3. ,  1. ],\n",
    "           [ 6. ,  3.4,  1. ],\n",
    "           [ 6.7,  3.1,  1. ],\n",
    "           [ 6.3,  2.3,  1. ],\n",
    "           [ 5.6,  3. ,  1. ],\n",
    "           [ 5.5,  2.5,  1. ],\n",
    "           [ 5.5,  2.6,  1. ],\n",
    "           [ 6.1,  3. ,  1. ],\n",
    "           [ 5.8,  2.6,  1. ],\n",
    "           [ 5. ,  2.3,  1. ],\n",
    "           [ 5.6,  2.7,  1. ],\n",
    "           [ 5.7,  3. ,  1. ],\n",
    "           [ 5.7,  2.9,  1. ],\n",
    "           [ 6.2,  2.9,  1. ],\n",
    "           [ 5.1,  2.5,  1. ],\n",
    "           [ 5.7,  2.8,  1. ]])\n",
    "\n"
   ]
  },
  {
   "cell_type": "code",
   "execution_count": 2,
   "metadata": {},
   "outputs": [],
   "source": [
    "# write a prediction function that, when the output z is 0 prints \"Iris-setosa\" and when z = 1 prints \"Iris-versicolor\".\n",
    "# Z is the combination of w1, w2 and the bias that make the perceptron. \n",
    "def guess_flower(SepalLength, SepalWidth) :\n",
    "    "
   ]
  },
  {
   "cell_type": "code",
   "execution_count": 39,
   "metadata": {},
   "outputs": [
    {
     "data": {
      "image/png": "[encoded data removed]",
      "text/plain": [
       "<Figure size 432x288 with 1 Axes>"
      ]
     },
     "metadata": {
      "needs_background": "light"
     },
     "output_type": "display_data"
    }
   ],
   "source": [
    "### visualize training data in 2D ###\n",
    "\n",
    "# x-axis: sepal length, y-axis: sepl width\n",
    "# use 2 colors to visualize 2 different classes of data \n",
    "scatter = plt.scatter(x=training_data[:, 0], y=training_data[:, 1],\n",
    "            c=training_data[:, 2])\n",
    "plt.xlabel(\"petal length\")\n",
    "plt.ylabel(\"petal width\")\n",
    "plt.legend(*scatter.legend_elements(num=1))\n",
    "plt.show()"
   ]
  },
  {
   "cell_type": "code",
   "execution_count": 377,
   "metadata": {},
   "outputs": [],
   "source": [
    "class Perceptron:\n",
    "    def __init__(self, learning_rate, max_iter):\n",
    "        self.eta = learning_rate\n",
    "        self.max_iter = max_iter\n",
    "        self.weights = np.array([])\n",
    "        self.bias = 0\n",
    "        self.sigmoid = lambda x: 1 / (1 + np.exp(-x))\n",
    "        \n",
    "    def fit(self, X, y):\n",
    "        weights = np.random.random(len(X[0]))\n",
    "        bias = np.random.rand(1)\n",
    "        it = 0\n",
    "        while it < self.max_iter:\n",
    "            for i in range(len(X)):\n",
    "                z = np.dot(X[i], weights) + bias\n",
    "                output = self.sigmoid(z)\n",
    "                if np.round(output) != y[i]:\n",
    "                    weights += self.eta*(y[i] - z)*X[i]\n",
    "                    bias += self.eta*(y[i] - z)\n",
    "            if self.weights.all() == weights.all() and self.bias == bias:\n",
    "                print(f\"Convergence achieved after {it} iterations.\")\n",
    "                break\n",
    "            self.weights, self.bias = weights, bias\n",
    "            it += 1\n",
    "        return self\n",
    "    \n",
    "    def predict(self, X):\n",
    "        pred = np.dot(X, self.weights) + self.bias\n",
    "        if pred > 0:\n",
    "            return 1\n",
    "        else:\n",
    "            return 0\n",
    "        "
   ]
  },
  {
   "cell_type": "code",
   "execution_count": 378,
   "metadata": {},
   "outputs": [
    {
     "name": "stdout",
     "output_type": "stream",
     "text": [
      "Convergence achieved after 1 iterations.\n",
      "Model accuracy: 0.4528301886792453\n"
     ]
    }
   ],
   "source": [
    "np.random.shuffle(training_data)\n",
    "model = Perceptron(0.01, 100)\n",
    "model = model.fit(training_data[:, :1], training_data[:, 2])\n",
    "\n",
    "## model_evaluation:\n",
    "test = test_data[:, :1]\n",
    "gt = test_data[:, 2]\n",
    "points = 0\n",
    "for sample, truth in zip(test, gt):\n",
    "    if truth == model.predict(sample):\n",
    "        points += 1\n",
    "\n",
    "print(\"Model accuracy:\", points/len(gt))"
   ]
  },
  {
   "cell_type": "code",
   "execution_count": null,
   "metadata": {},
   "outputs": [],
   "source": [
    "### plot the evaluation result ###\n"
   ]
  },
  {
   "cell_type": "markdown",
   "metadata": {},
   "source": [
    "### Can the accuracy be improved given the limitations (lineal function) of the perceptron algorithm?"
   ]
  },
  {
   "cell_type": "markdown",
   "metadata": {},
   "source": [
    "Type your answer here:"
   ]
  },
  {
   "cell_type": "code",
   "execution_count": null,
   "metadata": {},
   "outputs": [],
   "source": [
    "# BONUS: Create a confusion matrix with the type of classification errors"
   ]
  }
 ],
 "metadata": {
  "kernelspec": {
   "display_name": "Python 3",
   "language": "python",
   "name": "python3"
  },
  "language_info": {
   "codemirror_mode": {
    "name": "ipython",
    "version": 3
   },
   "file_extension": ".py",
   "mimetype": "text/x-python",
   "name": "python",
   "nbconvert_exporter": "python",
   "pygments_lexer": "ipython3",
   "version": "3.8.5"
  }
 },
 "nbformat": 4,
 "nbformat_minor": 2
}
