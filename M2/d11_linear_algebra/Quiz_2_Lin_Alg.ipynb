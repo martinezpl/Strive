{
 "cells": [
  {
   "cell_type": "markdown",
   "metadata": {},
   "source": [
    "## Linear Algebra Quiz #2\n",
    "\n",
    "![title](./img/2_1.jpeg)\n",
    "\n",
    "We strongly suggest working with numpy :)"
   ]
  },
  {
   "cell_type": "code",
   "execution_count": 1,
   "metadata": {},
   "outputs": [],
   "source": [
    "import numpy as np"
   ]
  },
  {
   "cell_type": "markdown",
   "metadata": {},
   "source": [
    "![title](./img/2_2.png)\n",
    "- Which vectors below define a plane spanned by a linear combination?"
   ]
  },
  {
   "cell_type": "code",
   "execution_count": 37,
   "metadata": {},
   "outputs": [
    {
     "name": "stdout",
     "output_type": "stream",
     "text": [
      "0.2672612419124244 0.5345224838248488 0.8017837257372732\n",
      "0.2672612419124244 0.5345224838248488 0.8017837257372732\n",
      "0.2672612419124244 0.5345224838248488 0.8017837257372732\n"
     ]
    },
    {
     "data": {
      "text/plain": [
       "'Pairs that span a plane: '"
      ]
     },
     "execution_count": 37,
     "metadata": {},
     "output_type": "execute_result"
    }
   ],
   "source": [
    "def plane(a,b,c):\n",
    "    #returns false if the vectors do define a plane and returns which are those vectors if true\n",
    "    \n",
    "    vectors = (a, b, c)\n",
    "    vectorsProperties = []\n",
    "    for v in vectors:\n",
    "        magnitude = np.sqrt(v[0]**2 + v[1]**2 + v[2]**2)\n",
    "        \n",
    "        a1 = abs(v[0] / magnitude)\n",
    "        a2 = abs(v[1] / magnitude)\n",
    "        a3 = abs(v[2] / magnitude)\n",
    "        \n",
    "        vectorsProperties.append((a1, a2, a3))\n",
    "    \n",
    "    validPairs = f\"Pairs that span a plane: \"\n",
    "    if vectorsProperties[0] != vectorsProperties[1]:\n",
    "        validPairs += f\" {(a, b)} \"\n",
    "    if vectorsProperties[0] != vectorsProperties[2]:\n",
    "        validPairs += f\" {(a, c)} \"  \n",
    "    if vectorsProperties[1] != vectorsProperties[2]:\n",
    "        validPairs += f\" {(b, c)} \"   \n",
    "\n",
    "    return validPairs\n",
    "\n",
    "v1 = np.array([-2, -4, -6])\n",
    "v2 = np.array([1, 2, 3])\n",
    "v3 = np.array([2, 4, 6])\n",
    "\n",
    "plane(v1, v2, v3)\n",
    "\n",
    "# Harder exercise\n",
    "                \n",
    "#returns the first set of vectors to complete a plane, false otherwise"
   ]
  },
  {
   "cell_type": "code",
   "execution_count": 12,
   "metadata": {},
   "outputs": [
    {
     "data": {
      "text/plain": [
       "array([[1, 2, 8],\n",
       "       [2, 2, 8],\n",
       "       [3, 2, 8]])"
      ]
     },
     "execution_count": 12,
     "metadata": {},
     "output_type": "execute_result"
    }
   ],
   "source": [
    "np.hstack((v1, v2, v3))"
   ]
  },
  {
   "cell_type": "markdown",
   "metadata": {},
   "source": [
    "![title](./img/2_3.png)\n",
    "- What is the solution for a and b?"
   ]
  },
  {
   "cell_type": "code",
   "execution_count": null,
   "metadata": {},
   "outputs": [],
   "source": [
    "# Infinite solutions."
   ]
  },
  {
   "cell_type": "markdown",
   "metadata": {},
   "source": [
    "![title](./img/2_4.png)\n",
    "- What is the solution for a and b?"
   ]
  },
  {
   "cell_type": "code",
   "execution_count": null,
   "metadata": {},
   "outputs": [],
   "source": [
    "# There is no solution."
   ]
  }
 ],
 "metadata": {
  "kernelspec": {
   "display_name": "Python 3",
   "language": "python",
   "name": "python3"
  },
  "language_info": {
   "codemirror_mode": {
    "name": "ipython",
    "version": 3
   },
   "file_extension": ".py",
   "mimetype": "text/x-python",
   "name": "python",
   "nbconvert_exporter": "python",
   "pygments_lexer": "ipython3",
   "version": "3.8.5"
  }
 },
 "nbformat": 4,
 "nbformat_minor": 2
}
