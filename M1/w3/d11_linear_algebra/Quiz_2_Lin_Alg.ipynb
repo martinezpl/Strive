{
 "cells": [
  {
   "cell_type": "markdown",
   "metadata": {},
   "source": [
    "## Linear Algebra Quiz #2\n",
    "\n",
    "![title](./img/2_1.jpeg)\n",
    "\n",
    "We strongly suggest working with numpy :)"
   ]
  },
  {
   "cell_type": "code",
   "execution_count": 2,
   "metadata": {},
   "outputs": [],
   "source": [
    "import numpy as np"
   ]
  },
  {
   "cell_type": "markdown",
   "metadata": {},
   "source": [
    "![title](./img/2_2.png)\n",
    "- Which vectors below define a plane spanned by a linear combination?"
   ]
  },
  {
   "cell_type": "code",
   "execution_count": 22,
   "metadata": {},
   "outputs": [],
   "source": [
    "def plane(a,b,c):\n",
    "    if (bool(len(a) == len(b) == len(c))):\n",
    "        vcs = np.hstack((a, b, c))\n",
    "        #|A| = a(ei − fh) − b(di − fg) + c(dh − eg)\n",
    "        dtr = np.linalg.det(vcs)\n",
    "        if dtr == 0:\n",
    "            # how to determine which pair is dependant?\n",
    "            return False\n",
    "        return True\n",
    "    else:\n",
    "        raise(ValueError(\"Vectors must be same dimension\"))\n",
    "        \n",
    "v1 = np.array([[1], [2], [3]])\n",
    "v2 = np.array([[2], [2], [2]])\n",
    "v3 = np.array([[8], [8], [8]])\n",
    "\n",
    "plane(v1, v2, v3)\n",
    "\n",
    "# Harder exercise\n",
    "\n",
    "def is_dtr_0(*args):\n",
    "    vcs = np.hstack(args)\n",
    "    dtr = np.linalg.det(vcs)\n",
    "    if dtr == 0:\n",
    "        True\n",
    "        \n",
    "def complete_plane(*args):\n",
    "    arlist = list(args)\n",
    "    for a in arlist:\n",
    "        for b in arlist.remove(a):\n",
    "            if len(a) == len(b) == 2:\n",
    "                if is_dtr_0(a, b) == False:\n",
    "                    return a, b\n",
    "            elif len(a) == len(b) == 3:\n",
    "                for c in arlist.remove(a).remove(b):\n",
    "                    if len(a) == len(b) == len(c):\n",
    "                        if is_dtr_0(a, b, c) == False:\n",
    "                            return a, b, c\n",
    "                        \n",
    "                \n",
    "#returns the first set of vectors to complete a plane, false otherwise"
   ]
  },
  {
   "cell_type": "code",
   "execution_count": 12,
   "metadata": {},
   "outputs": [
    {
     "data": {
      "text/plain": [
       "array([[1, 2, 8],\n",
       "       [2, 2, 8],\n",
       "       [3, 2, 8]])"
      ]
     },
     "execution_count": 12,
     "metadata": {},
     "output_type": "execute_result"
    }
   ],
   "source": [
    "np.hstack((v1, v2, v3))"
   ]
  },
  {
   "cell_type": "markdown",
   "metadata": {},
   "source": [
    "![title](./img/2_3.png)\n",
    "- What is the solution for a and b?"
   ]
  },
  {
   "cell_type": "code",
   "execution_count": null,
   "metadata": {},
   "outputs": [],
   "source": [
    "# Infinite solutions."
   ]
  },
  {
   "cell_type": "markdown",
   "metadata": {},
   "source": [
    "![title](./img/2_4.png)\n",
    "- What is the solution for a and b?"
   ]
  },
  {
   "cell_type": "code",
   "execution_count": null,
   "metadata": {},
   "outputs": [],
   "source": [
    "# There is no solution."
   ]
  }
 ],
 "metadata": {
  "kernelspec": {
   "display_name": "Python 3",
   "language": "python",
   "name": "python3"
  },
  "language_info": {
   "codemirror_mode": {
    "name": "ipython",
    "version": 3
   },
   "file_extension": ".py",
   "mimetype": "text/x-python",
   "name": "python",
   "nbconvert_exporter": "python",
   "pygments_lexer": "ipython3",
   "version": "3.8.5"
  }
 },
 "nbformat": 4,
 "nbformat_minor": 2
}
