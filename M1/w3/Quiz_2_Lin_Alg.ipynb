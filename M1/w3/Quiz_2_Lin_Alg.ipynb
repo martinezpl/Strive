{
 "cells": [
  {
   "cell_type": "markdown",
   "metadata": {},
   "source": [
    "## Linear Algebra Quiz #2\n",
    "\n",
    "![title](./img/2_1.jpeg)\n",
    "\n",
    "We strongly suggest working with numpy :)"
   ]
  },
  {
   "cell_type": "code",
   "execution_count": 1,
   "metadata": {},
   "outputs": [],
   "source": [
    "import numpy as np"
   ]
  },
  {
   "cell_type": "markdown",
   "metadata": {},
   "source": [
    "![title](./img/2_2.png)\n",
    "- Which vectors below define a plane spanned by a linear combination?"
   ]
  },
  {
   "cell_type": "code",
   "execution_count": 15,
   "metadata": {},
   "outputs": [
    {
     "name": "stderr",
     "output_type": "stream",
     "text": [
      "<ipython-input-15-24347179e332>:11: DeprecationWarning: The truth value of an empty array is ambiguous. Returning False, but in future this will result in an error. Use `array.size > 0` to check that an array is not empty.\n",
      "  if any([np.intersect1d(b, p1), np.intersect1d(c, p1)]):\n"
     ]
    },
    {
     "data": {
      "text/plain": [
       "[(array([1, 2, 3]), array([2, 2, 2])), (array([1, 2, 3]), array([8, 8, 8]))]"
      ]
     },
     "execution_count": 15,
     "metadata": {},
     "output_type": "execute_result"
    }
   ],
   "source": [
    "def plane(a,b,c):\n",
    "    p1 = a + b\n",
    "    p2 = a + c\n",
    "    p3 = b + c\n",
    "    \n",
    "    planeDef = []\n",
    "    if any([np.intersect1d(a, p1), np.intersect1d(b, p1)]):\n",
    "        planeDef.append((a, b))\n",
    "    if any([np.intersect1d(a, p1), np.intersect1d(c, p1)]):\n",
    "        planeDef.append((a, c))\n",
    "    if any([np.intersect1d(b, p1), np.intersect1d(c, p1)]):\n",
    "        planeDef.append((b, c))\n",
    "    \n",
    "    if len(planeDef) > 0:\n",
    "        return planeDef\n",
    "    else:\n",
    "        return False\n",
    "        \n",
    "    \n",
    "    #returns false if the vectors do define a plane and returns which are those vectors if true\n",
    "\n",
    "v1 = np.array([1, 2, 3])\n",
    "v2 = np.array([2, 2, 2])\n",
    "v3 = np.array([8, 8, 8])\n",
    "\n",
    "plane(v1, v2, v3)\n",
    "# Harder exercise\n",
    "\n",
    "#def complete_plane(#inputs):\n",
    "    \n",
    "#returns the first set of vectors to complete a plane, false otherwise"
   ]
  },
  {
   "cell_type": "markdown",
   "metadata": {},
   "source": [
    "![title](./img/2_3.png)\n",
    "- What is the solution for a and b?"
   ]
  },
  {
   "cell_type": "code",
   "execution_count": null,
   "metadata": {},
   "outputs": [],
   "source": [
    "# do you need a function for this? What is the most efficient way to solve it?"
   ]
  },
  {
   "cell_type": "markdown",
   "metadata": {},
   "source": [
    "![title](./img/2_4.png)\n",
    "- What is the solution for a and b?"
   ]
  },
  {
   "cell_type": "code",
   "execution_count": null,
   "metadata": {},
   "outputs": [],
   "source": [
    "# Idem. Do you need a function for this? What is the most efficient way to solve it?"
   ]
  }
 ],
 "metadata": {
  "kernelspec": {
   "display_name": "Python 3",
   "language": "python",
   "name": "python3"
  },
  "language_info": {
   "codemirror_mode": {
    "name": "ipython",
    "version": 3
   },
   "file_extension": ".py",
   "mimetype": "text/x-python",
   "name": "python",
   "nbconvert_exporter": "python",
   "pygments_lexer": "ipython3",
   "version": "3.8.5"
  }
 },
 "nbformat": 4,
 "nbformat_minor": 2
}
