{
 "cells": [
  {
   "cell_type": "markdown",
   "metadata": {},
   "source": [
    "Here you have a collection of guided exercises for the first class on Python. <br>\n",
    "The exercises are divided by topic, following the topics reviewed during the theory session, and for each topic you have some mandatory exercises, and other optional exercises, which you are invited to do if you still have time after the mandatory exercises. <br>\n",
    "\n",
    "Remember that you have 5 hours to solve these exercises, after which we will review the most interesting exercises together. If you don't finish all the exercises, you can work on them tonightor tomorrow. \n",
    "\n",
    "At the end of the class, we will upload the code with the solutions of the exercises so that you can review them again if needed. If you still have not finished some exercises, try to do them first by yourself, before taking a look at the solutions: you are doing these exercises for yourself, so it is always the best to do them your way first, as it is the fastest way to learn!"
   ]
  },
  {
   "cell_type": "markdown",
   "metadata": {},
   "source": [
    "**Exercise 4.1 (🌶️🌶️):** Define a function that receives a string parameter, and returns an integer indicating the count for all the letters of the alphabet that there are in the string. The expected output format is in a **dictionary** with the relevant keys and values. The capital version of a lower case letter is considered to be the same letter.\n",
    "\n",
    "This should sound quite familiar, try to do it without looking at your old code ;)\n",
    "\n",
    "**What is the challenge?**: Don't code 27 times the same line of code, learn how to do things that scale well."
   ]
  },
  {
   "cell_type": "code",
   "execution_count": 1,
   "metadata": {},
   "outputs": [
    {
     "name": "stdout",
     "output_type": "stream",
     "text": [
      "{'t': 5, 'h': 2, 'e': 3, ' ': 5, 'c': 1, 'a': 3, 's': 1, 'o': 1, 'n': 1, 'm': 1}\n"
     ]
    }
   ],
   "source": [
    "def count_sentence(sentence):\n",
    "    sentence = sentence.lower()\n",
    "    letter_count ={}\n",
    "    alphabet = [\"a\",\"b\",\"c\",\"d\",\"e\",\"f\",\"g\",\"h\",\"i\",\"j\",\"k\",\"l\",\"m\",\"n\",\"o\",\"p\",\"q\",\"r\",\"t\",\"u\",\"v\",\"w\",\"x\",\"y\",\"z\"]\n",
    "    for letter in sentence:\n",
    "        if letter not in letter_count.keys():\n",
    "            letter_count [letter] = 0\n",
    "        letter_count[letter] = letter_count[letter] + 1\n",
    "    return letter_count\n",
    "\n",
    "sentence = \"The cat sat on the mate\"\n",
    "print(count_sentence(sentence))"
   ]
  },
  {
   "cell_type": "markdown",
   "metadata": {},
   "source": [
    "**Exercise 5.6 (🌶️🌶️):** A prime number is a positive integer that is dividable by exactly two different numbers, namely 1 and itself. The lowest (and only even) prime number is 2. The first 10 prime numbers are 2, 3, 5, 7, 11, 13, 17, 19, 23, and 29. Write a function that returns a **list off all prime numbers** below a given number.\n",
    "\n",
    "Hint: In a loop where you test the possible dividers of the number, you can conclude that the number is not prime as soon as you encounter a number other than 1 or the number itself that divides it. However, you can *only* conclude that it actually *is* prime after you have tested all possible dividers.\n",
    "\n",
    "**What is the challenge here? You have to try to optimize your code and try to make it work for the highest prime number you can encounter before you run out of memory. For low numbers you should know how to do it already**"
   ]
  },
  {
   "cell_type": "code",
   "execution_count": 7,
   "metadata": {},
   "outputs": [
    {
     "name": "stdout",
     "output_type": "stream",
     "text": [
      "97\n",
      "89\n",
      "83\n",
      "79\n",
      "73\n",
      "71\n",
      "67\n",
      "61\n",
      "59\n",
      "53\n",
      "47\n",
      "43\n",
      "41\n",
      "37\n",
      "31\n",
      "29\n",
      "23\n",
      "19\n",
      "17\n",
      "13\n",
      "11\n",
      "7\n",
      "5\n",
      "3\n",
      "2\n"
     ]
    }
   ],
   "source": [
    "def isPrime(number):\n",
    "    if number <= 1:\n",
    "        return False\n",
    "    x = 2\n",
    "    numberMax = number\n",
    "    while x < numberMax:\n",
    "        if number % x == 0:\n",
    "            return False\n",
    "        else:\n",
    "            numberMax = number / x\n",
    "        x += 1\n",
    "    return True\n",
    "\n",
    "def listPrimesBelow(number):\n",
    "    x = number - 1\n",
    "    while x > 1:\n",
    "        if isPrime(x):\n",
    "            print(x)\n",
    "        x -= 1\n",
    "\n",
    "def listPrimesUpTo(number):\n",
    "    x = 0\n",
    "    while x < number:\n",
    "        if isPrime(x):\n",
    "            print(x)\n",
    "        x += 1\n",
    "\n",
    "\n",
    "listPrimesBelow(100)"
   ]
  },
  {
   "cell_type": "markdown",
   "metadata": {},
   "source": [
    "**Exercise 5.7 (🌶️🌶️):** Write a function that prints all integers between the parameters `a` and `b` that can be written as the sum of two squares. Produce output in the form of `z = x**2 + y**2`, e.g., `58 = 3**2 + 7**2`. If a number occurs on the list with multiple *different* ways of writing it as the sum of two squares, that is acceptable. "
   ]
  },
  {
   "cell_type": "code",
   "execution_count": 3,
   "metadata": {},
   "outputs": [],
   "source": [
    "import math\n",
    "def findInts(a, b):\n",
    "    sols = []\n",
    "    for i in range(a, b):\n",
    "        x = 0\n",
    "        y = round(math.sqrt(i))\n",
    "        while x < y:\n",
    "            if i == x**2 + y**2:\n",
    "                sols.append(str(i) + \" = \" + str(x) + \"**2\" + \" + \" + str(y) + \"**2\")\n",
    "            x += 1\n",
    "            y -= 1\n",
    "    return sols\n",
    "\n",
    "print(findInts(2, 9))\n",
    "\n",
    "\n",
    "#fail "
   ]
  },
  {
   "cell_type": "code",
   "execution_count": null,
   "metadata": {},
   "outputs": [],
   "source": []
  }
 ],
 "metadata": {
  "kernelspec": {
   "display_name": "Python 3",
   "language": "python",
   "name": "python3"
  },
  "language_info": {
   "codemirror_mode": {
    "name": "ipython",
    "version": 3
   },
   "file_extension": ".py",
   "mimetype": "text/x-python",
   "name": "python",
   "nbconvert_exporter": "python",
   "pygments_lexer": "ipython3",
   "version": "3.8.5"
  }
 },
 "nbformat": 4,
 "nbformat_minor": 4
}
