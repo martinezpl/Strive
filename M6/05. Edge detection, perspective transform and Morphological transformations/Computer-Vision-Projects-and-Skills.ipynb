{
 "cells": [
  {
   "cell_type": "markdown",
   "metadata": {},
   "source": [
    "# Computer Vision"
   ]
  },
  {
   "cell_type": "markdown",
   "metadata": {},
   "source": [
    "### List your new Computer Vision skills, usages and importance"
   ]
  },
  {
   "cell_type": "markdown",
   "metadata": {},
   "source": [
    "1. Annotating: it will be a common way to let the model explain what it sees\n",
    "2. How color works in images: using HSV scale, extracting & manipulating colors; all of that finds application in fragmenting images\n",
    "3. Transforming images: adjusting images to our needs\n",
    "4. Filter kernels: image filters are very common even outside CV and I'm glad I understand how filtering works\n",
    "5. Callbacks: very useful for interfacing with programs"
   ]
  },
  {
   "cell_type": "markdown",
   "metadata": {},
   "source": [
    "### List your projects with repository url"
   ]
  },
  {
   "cell_type": "markdown",
   "metadata": {},
   "source": [
    "### Project title\n",
    "Project description: A real time disco-filter, just having fun with mask transformations\n",
    "Computer vision skills applied: color masking, transformation, callbacks, cv window and video recording\n",
    "Repository url: https://github.com/martinezpl/Strive/blob/master/M6/03.%20Histograms%2C%20transformations%20and%20Bitwise%20ops/disco_filter.py  \n",
    "\n",
    "### Project title\n",
    "Project description: CV thresholds comparator   \n",
    "Computer vision skills applied: thresholding, callbacks, trackers, annotating\n",
    "Repository url: \n",
    "https://github.com/martinezpl/swiss-knife/blob/main/cv_thresh_comp.py"
   ]
  },
  {
   "cell_type": "markdown",
   "metadata": {},
   "source": [
    "### Anything else you would like to add or share?"
   ]
  }
 ],
 "metadata": {
  "kernelspec": {
   "display_name": "Python 3",
   "language": "python",
   "name": "python3"
  },
  "language_info": {
   "codemirror_mode": {
    "name": "ipython",
    "version": 3
   },
   "file_extension": ".py",
   "mimetype": "text/x-python",
   "name": "python",
   "nbconvert_exporter": "python",
   "pygments_lexer": "ipython3",
   "version": "3.7.10"
  }
 },
 "nbformat": 4,
 "nbformat_minor": 2
}
