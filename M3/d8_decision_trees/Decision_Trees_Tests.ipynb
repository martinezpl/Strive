{
 "cells": [
  {
   "cell_type": "code",
   "execution_count": 446,
   "id": "sensitive-shame",
   "metadata": {},
   "outputs": [],
   "source": [
    "import numpy as np\n",
    "import pandas as pd\n",
    "from sklearn.tree import DecisionTreeClassifier\n",
    "from sklearn.datasets import load_iris\n",
    "from sklearn.model_selection import train_test_split\n",
    "from sklearn.ensemble import RandomForestClassifier\n",
    "\n",
    "import time"
   ]
  },
  {
   "cell_type": "code",
   "execution_count": 35,
   "id": "mechanical-train",
   "metadata": {},
   "outputs": [],
   "source": [
    "iris = load_iris()\n",
    "iris_y = iris['target']\n",
    "iris_X = iris['data']"
   ]
  },
  {
   "cell_type": "code",
   "execution_count": 34,
   "id": "minimal-halifax",
   "metadata": {},
   "outputs": [],
   "source": [
    "zoo = pd.read_csv('zoo.data', names = np.arange(18))\n",
    "zoo_y = zoo[17]\n",
    "zoo_X = zoo.drop(columns=[0, 17])"
   ]
  },
  {
   "cell_type": "code",
   "execution_count": 444,
   "id": "radical-decision",
   "metadata": {},
   "outputs": [
    {
     "name": "stdout",
     "output_type": "stream",
     "text": [
      "gini ZOO score: 4744.545454545597 / 5000\n",
      "time taken: 30 seconds\n",
      "\n",
      "gini IRIS score: 4733.666666666804 / 5000\n",
      "time taken: 7 seconds\n",
      "\n",
      "entropy ZOO score: 4721.72727272742 / 5000\n",
      "time taken: 30 seconds\n",
      "\n",
      "entropy IRIS score: 4732.93333333347 / 5000\n",
      "time taken: 7 seconds\n",
      "\n"
     ]
    }
   ],
   "source": [
    "iters = 5000\n",
    "\n",
    "def print_outcomes(string, score, time):\n",
    "    print(string + ' score:', score, f'/ {iters}')\n",
    "    print('time taken:', time, 'seconds\\n')\n",
    "    \n",
    "dtc = DecisionTreeClassifier(criterion='gini')\n",
    "\n",
    "score_sum = 0\n",
    "t1 = time.time()\n",
    "for i in range(iters):\n",
    "    X_train, X_test, y_train, y_test = train_test_split(zoo_X, zoo_y, \n",
    "                                                        test_size=0.1, random_state=i)\n",
    "    dtc = dtc.fit(X_train, y_train)\n",
    "    score_sum += dtc.score(X_test, y_test)\n",
    "t2 = int(time.time() - t1)\n",
    "print_outcomes('gini ZOO', score_sum, t2)\n",
    "\n",
    "score_sum = 0\n",
    "t1 = time.time()\n",
    "for i in range(iters):\n",
    "    X_train, X_test, y_train, y_test = train_test_split(iris_X, iris_y, \n",
    "                                                        test_size=0.1, random_state=i)\n",
    "    dtc = dtc.fit(X_train, y_train)\n",
    "    score_sum += dtc.score(X_test, y_test)\n",
    "t2 = int(time.time() - t1)\n",
    "print_outcomes('gini IRIS', score_sum, t2)\n",
    "\n",
    "dtc.criterion='entropy'\n",
    "\n",
    "score_sum = 0\n",
    "t1 = time.time()\n",
    "for i in range(iters):\n",
    "    X_train, X_test, y_train, y_test = train_test_split(zoo_X, zoo_y, \n",
    "                                                        test_size=0.1, random_state=i)\n",
    "    dtc = dtc.fit(X_train, y_train)\n",
    "    score_sum += dtc.score(X_test, y_test)\n",
    "t2 = int(time.time() - t1)\n",
    "print_outcomes('entropy ZOO', score_sum, t2)\n",
    "\n",
    "score_sum = 0\n",
    "t1 = time.time()\n",
    "for i in range(iters):\n",
    "    X_train, X_test, y_train, y_test = train_test_split(iris_X, iris_y, \n",
    "                                                        test_size=0.1, random_state=i)\n",
    "    dtc = dtc.fit(X_train, y_train)\n",
    "    score_sum += dtc.score(X_test, y_test)\n",
    "t2 = int(time.time() - t1)\n",
    "print_outcomes('entropy IRIS', score_sum, t2)\n"
   ]
  },
  {
   "cell_type": "markdown",
   "id": "incorporate-effectiveness",
   "metadata": {},
   "source": [
    "### Outcome\n",
    "After rerunning this test multiple times, Gini regularly provides a minimal performance boost in zoo dataset, with no significant difference on iris dataset. \n",
    "\n",
    "### Conclusion\n",
    "Two possible conclusions:\n",
    "1. Gini shows slightly better results on high dimensional datasets?\n",
    "2. Gini shows slightly better results on non-float data?"
   ]
  },
  {
   "cell_type": "code",
   "execution_count": null,
   "id": "mature-browse",
   "metadata": {},
   "outputs": [
    {
     "name": "stdout",
     "output_type": "stream",
     "text": [
      "RFC ZOO score: 96.3636363636363 / 100\n",
      "time taken: 19 seconds\n",
      "\n"
     ]
    }
   ],
   "source": [
    "iters = 100\n",
    "\n",
    "def print_outcomes(string, score, time):\n",
    "    print(string + ' score:', score, f'/ {iters}')\n",
    "    print('time taken:', time, 'seconds\\n')\n",
    "    \n",
    "rfc = RandomForestClassifier()\n",
    "\n",
    "score_sum = 0\n",
    "t1 = time.time()\n",
    "for i in range(iters):\n",
    "    X_train, X_test, y_train, y_test = train_test_split(zoo_X, zoo_y, \n",
    "                                                        test_size=0.1, random_state=i)\n",
    "    rfc = rfc.fit(X_train, y_train)\n",
    "    score_sum += rfc.score(X_test, y_test)\n",
    "t2 = int(time.time() - t1)\n",
    "print_outcomes('RFC ZOO', score_sum, t2)\n",
    "\n",
    "score_sum = 0\n",
    "t1 = time.time()\n",
    "for i in range(iters):\n",
    "    X_train, X_test, y_train, y_test = train_test_split(iris_X, iris_y, \n",
    "                                                        test_size=0.1, random_state=i)\n",
    "    rfc = rfc.fit(X_train, y_train)\n",
    "    score_sum += rfc.score(X_test, y_test)\n",
    "t2 = int(time.time() - t1)\n",
    "print_outcomes('RFC IRIS', score_sum, t2)\n"
   ]
  }
 ],
 "metadata": {
  "kernelspec": {
   "display_name": "Python 3",
   "language": "python",
   "name": "python3"
  },
  "language_info": {
   "codemirror_mode": {
    "name": "ipython",
    "version": 3
   },
   "file_extension": ".py",
   "mimetype": "text/x-python",
   "name": "python",
   "nbconvert_exporter": "python",
   "pygments_lexer": "ipython3",
   "version": "3.8.5"
  }
 },
 "nbformat": 4,
 "nbformat_minor": 5
}
